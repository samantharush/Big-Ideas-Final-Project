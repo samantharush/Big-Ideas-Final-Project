{
 "cells": [
  {
   "cell_type": "code",
   "execution_count": 19,
   "metadata": {},
   "outputs": [],
   "source": [
    "import pandas as pd\n",
    "import geopandas\n",
    "%matplotlib inline\n",
    "import matplotlib.pyplot as plt"
   ]
  },
  {
   "cell_type": "markdown",
   "metadata": {},
   "source": [
    "For my metric, I used a dataset on the school enrollment of the neighborhoods."
   ]
  },
  {
   "cell_type": "code",
   "execution_count": 20,
   "metadata": {},
   "outputs": [],
   "source": [
    "df = pd.read_csv(\"school_enrollment.csv\")"
   ]
  },
  {
   "cell_type": "markdown",
   "metadata": {},
   "source": [
    "This code subtracts the undergraduate students from the total number of students enrolled in that neighborhood and from the total number of people in that neighborhood. I did this because North and Central Oakland house most of the Pitt students, so it makes the data more fair to eliminate the undergraduate students from the data. Additionally, it creates a ratio of the total number of students divided by the total number of individuals in each neighborhood. This makes the data more fair as some neighborhoods have a lot more people than others."
   ]
  },
  {
   "cell_type": "code",
   "execution_count": 26,
   "metadata": {},
   "outputs": [
    {
     "data": {
      "text/html": [
       "<div>\n",
       "<style scoped>\n",
       "    .dataframe tbody tr th:only-of-type {\n",
       "        vertical-align: middle;\n",
       "    }\n",
       "\n",
       "    .dataframe tbody tr th {\n",
       "        vertical-align: top;\n",
       "    }\n",
       "\n",
       "    .dataframe thead th {\n",
       "        text-align: right;\n",
       "    }\n",
       "</style>\n",
       "<table border=\"1\" class=\"dataframe\">\n",
       "  <thead>\n",
       "    <tr style=\"text-align: right;\">\n",
       "      <th></th>\n",
       "      <th>Neighborhood</th>\n",
       "      <th>Ratio</th>\n",
       "    </tr>\n",
       "  </thead>\n",
       "  <tbody>\n",
       "    <tr>\n",
       "      <th>40</th>\n",
       "      <td>Homewood North</td>\n",
       "      <td>0.360072</td>\n",
       "    </tr>\n",
       "    <tr>\n",
       "      <th>2</th>\n",
       "      <td>Allentown</td>\n",
       "      <td>0.350731</td>\n",
       "    </tr>\n",
       "    <tr>\n",
       "      <th>58</th>\n",
       "      <td>Northview Heights</td>\n",
       "      <td>0.335810</td>\n",
       "    </tr>\n",
       "    <tr>\n",
       "      <th>29</th>\n",
       "      <td>Elliott</td>\n",
       "      <td>0.321233</td>\n",
       "    </tr>\n",
       "    <tr>\n",
       "      <th>43</th>\n",
       "      <td>Knoxville</td>\n",
       "      <td>0.314637</td>\n",
       "    </tr>\n",
       "    <tr>\n",
       "      <th>56</th>\n",
       "      <td>North Oakland</td>\n",
       "      <td>0.310575</td>\n",
       "    </tr>\n",
       "    <tr>\n",
       "      <th>70</th>\n",
       "      <td>South Oakland</td>\n",
       "      <td>0.297645</td>\n",
       "    </tr>\n",
       "    <tr>\n",
       "      <th>33</th>\n",
       "      <td>Friendship</td>\n",
       "      <td>0.293805</td>\n",
       "    </tr>\n",
       "    <tr>\n",
       "      <th>68</th>\n",
       "      <td>Shadyside</td>\n",
       "      <td>0.281091</td>\n",
       "    </tr>\n",
       "    <tr>\n",
       "      <th>19</th>\n",
       "      <td>Central Oakland</td>\n",
       "      <td>0.278465</td>\n",
       "    </tr>\n",
       "  </tbody>\n",
       "</table>\n",
       "</div>"
      ],
      "text/plain": [
       "         Neighborhood     Ratio\n",
       "40     Homewood North  0.360072\n",
       "2           Allentown  0.350731\n",
       "58  Northview Heights  0.335810\n",
       "29            Elliott  0.321233\n",
       "43          Knoxville  0.314637\n",
       "56      North Oakland  0.310575\n",
       "70      South Oakland  0.297645\n",
       "33         Friendship  0.293805\n",
       "68          Shadyside  0.281091\n",
       "19    Central Oakland  0.278465"
      ]
     },
     "execution_count": 26,
     "metadata": {},
     "output_type": "execute_result"
    }
   ],
   "source": [
    "# Subtracting out Undergraduate students from total enrolled students and total people\n",
    "df['Total Students Enrolled'] = df['Estimate; Enrolled in school:'] - df['Estimate; Enrolled in school: - Enrolled in college, undergraduate years']\n",
    "df['Total'] = df['Estimate; Total:'] - df['Estimate; Enrolled in school: - Enrolled in college, undergraduate years']\n",
    "\n",
    "# Creating a ratio to make values more fair since some neighborhoods have larger populations\n",
    "df['Ratio'] = df['Total Students Enrolled'] / df['Total']\n",
    "\n",
    "# Making a new dataset for ratio data\n",
    "df_ratio = df[['Neighborhood', 'Ratio']]\n",
    "df_ratio = df_ratio.sort_values('Ratio', ascending=False)\n",
    "df_ratio.head(10)"
   ]
  },
  {
   "cell_type": "code",
   "execution_count": 23,
   "metadata": {},
   "outputs": [
    {
     "data": {
      "text/plain": [
       "<matplotlib.lines.Line2D at 0x7f5ef7079a00>"
      ]
     },
     "execution_count": 23,
     "metadata": {},
     "output_type": "execute_result"
    },
    {
     "data": {
      "image/png": "[encoded data removed]",
      "text/plain": [
       "<Figure size 432x288 with 1 Axes>"
      ]
     },
     "metadata": {
      "needs_background": "light"
     },
     "output_type": "display_data"
    }
   ],
   "source": [
    "# Finding the mean and plotting my ratio data with the mean\n",
    "mean = df['Ratio'].mean()\n",
    "df_ratio[0:10].plot.bar(rot=90, x = 'Neighborhood', color = 'g')\n",
    "plt.axhline(mean)"
   ]
  },
  {
   "cell_type": "code",
   "execution_count": 24,
   "metadata": {},
   "outputs": [
    {
     "data": {
      "text/html": [
       "<div>\n",
       "<style scoped>\n",
       "    .dataframe tbody tr th:only-of-type {\n",
       "        vertical-align: middle;\n",
       "    }\n",
       "\n",
       "    .dataframe tbody tr th {\n",
       "        vertical-align: top;\n",
       "    }\n",
       "\n",
       "    .dataframe thead th {\n",
       "        text-align: right;\n",
       "    }\n",
       "</style>\n",
       "<table border=\"1\" class=\"dataframe\">\n",
       "  <thead>\n",
       "    <tr style=\"text-align: right;\">\n",
       "      <th></th>\n",
       "      <th>Neighborhood</th>\n",
       "      <th>Final Rank</th>\n",
       "    </tr>\n",
       "  </thead>\n",
       "  <tbody>\n",
       "    <tr>\n",
       "      <th>40</th>\n",
       "      <td>Homewood North</td>\n",
       "      <td>10.000000</td>\n",
       "    </tr>\n",
       "    <tr>\n",
       "      <th>2</th>\n",
       "      <td>Allentown</td>\n",
       "      <td>9.740573</td>\n",
       "    </tr>\n",
       "    <tr>\n",
       "      <th>58</th>\n",
       "      <td>Northview Heights</td>\n",
       "      <td>9.326186</td>\n",
       "    </tr>\n",
       "    <tr>\n",
       "      <th>29</th>\n",
       "      <td>Elliott</td>\n",
       "      <td>8.921345</td>\n",
       "    </tr>\n",
       "    <tr>\n",
       "      <th>43</th>\n",
       "      <td>Knoxville</td>\n",
       "      <td>8.738164</td>\n",
       "    </tr>\n",
       "    <tr>\n",
       "      <th>56</th>\n",
       "      <td>North Oakland</td>\n",
       "      <td>8.625366</td>\n",
       "    </tr>\n",
       "    <tr>\n",
       "      <th>70</th>\n",
       "      <td>South Oakland</td>\n",
       "      <td>8.266252</td>\n",
       "    </tr>\n",
       "    <tr>\n",
       "      <th>33</th>\n",
       "      <td>Friendship</td>\n",
       "      <td>8.159628</td>\n",
       "    </tr>\n",
       "    <tr>\n",
       "      <th>68</th>\n",
       "      <td>Shadyside</td>\n",
       "      <td>7.806511</td>\n",
       "    </tr>\n",
       "    <tr>\n",
       "      <th>19</th>\n",
       "      <td>Central Oakland</td>\n",
       "      <td>7.733603</td>\n",
       "    </tr>\n",
       "  </tbody>\n",
       "</table>\n",
       "</div>"
      ],
      "text/plain": [
       "         Neighborhood  Final Rank\n",
       "40     Homewood North   10.000000\n",
       "2           Allentown    9.740573\n",
       "58  Northview Heights    9.326186\n",
       "29            Elliott    8.921345\n",
       "43          Knoxville    8.738164\n",
       "56      North Oakland    8.625366\n",
       "70      South Oakland    8.266252\n",
       "33         Friendship    8.159628\n",
       "68          Shadyside    7.806511\n",
       "19    Central Oakland    7.733603"
      ]
     },
     "execution_count": 24,
     "metadata": {},
     "output_type": "execute_result"
    }
   ],
   "source": [
    "# Making my values out of 10 to be able to rank them in order to find the best neighborhood from all our metrics\n",
    "df['Final Rank'] = df['Ratio'] * 27.7722277722\n",
    "df_finalrank = df[['Neighborhood', 'Final Rank']]\n",
    "df_finalrank = df_finalrank.sort_values('Final Rank', ascending=False)\n",
    "df_finalrank.head(10)"
   ]
  },
  {
   "cell_type": "markdown",
   "metadata": {},
   "source": [
    "Based off my results, I can conclude that Homewood North is the best neighborhood. Homewood North had the highest ratio of people enrolled in school by the total number of people in the neighborhood. The average ratio of all of the neighborhoods was 0.185, so Homewood North is well above the average, meaning most of the people that live in this area are enrolled in school. Having a high rate of individuals enrolled in school is an important factor to look at when choosing a neighborhood because it means both the children and adults will be well educated and that there is a wide access to education in this area. Education is obviously very important for both children and adults as it makes us better people and will most likely mean there will be other positive factors in this neighborhood because education affects most other factors."
   ]
  }
 ],
 "metadata": {
  "kernelspec": {
   "display_name": "Python 3",
   "language": "python",
   "name": "python3"
  },
  "language_info": {
   "codemirror_mode": {
    "name": "ipython",
    "version": 3
   },
   "file_extension": ".py",
   "mimetype": "text/x-python",
   "name": "python",
   "nbconvert_exporter": "python",
   "pygments_lexer": "ipython3",
   "version": "3.8.3"
  }
 },
 "nbformat": 4,
 "nbformat_minor": 4
}
